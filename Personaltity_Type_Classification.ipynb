{
  "nbformat": 4,
  "nbformat_minor": 0,
  "metadata": {
    "colab": {
      "name": "Personaltity Type Classification.ipynb",
      "version": "0.3.2",
      "provenance": [],
      "collapsed_sections": [],
      "include_colab_link": true
    },
    "kernelspec": {
      "name": "python3",
      "display_name": "Python 3"
    },
    "accelerator": "GPU"
  },
  "cells": [
    {
      "cell_type": "markdown",
      "metadata": {
        "id": "view-in-github",
        "colab_type": "text"
      },
      "source": [
        "<a href=\"https://colab.research.google.com/github/manashpratim/Personality-Type-Classification/blob/master/Personaltity_Type_Classification.ipynb\" target=\"_parent\"><img src=\"https://colab.research.google.com/assets/colab-badge.svg\" alt=\"Open In Colab\"/></a>"
      ]
    },
    {
      "cell_type": "code",
      "metadata": {
        "id": "PCfw8MJ0tUfC",
        "colab_type": "code",
        "colab": {
          "base_uri": "https://localhost:8080/",
          "height": 224
        },
        "outputId": "2931c089-24e9-48a6-c5f8-b87956afc989"
      },
      "source": [
        "#Downloading the Dataset\n",
        "!wget --no-check-certificate \\\n",
        "      \"https://storage.googleapis.com/kaggle-datasets/2637/4381/mbti_1.csv.zip?GoogleAccessId=web-data@kaggle-161607.iam.gserviceaccount.com&Expires=1561827680&Signature=FuZVxTRJq8XHy3Zs2m7Khiac2S2SuYLxNd8fTgqmpFqGqlwwQrQEnBk4bamd6CA1cTSToRFwn8bAqPEatCbaSBmqdSX7K3FcTUid9LEkwQZNq7Yxj0NcV3trg%2FXPMXbtvwhK34wq2UgDmH0hXyOo8kcha6t%2Fc1p87jajs%2BYqJT4NLdbBxlY4n%2FOsZTkfP3%2FNBuBXDdTIjR%2BKeKRLTz4LDB%2BItuMImn%2BNHavJv%2Fw0u1mYg5yrS%2FV2JM%2F%2FHVDbApthmEo5awR5U1H2VwEe6NZNKEaHLz21wVNt3WC0OTHdF7ggAv6X4DQzymh2xhkvsuh0c5HTdJKfwGKwYDTZb14X7w%3D%3D\"\\\n",
        "      -O \"/tmp/mbti.zip\""
      ],
      "execution_count": 12,
      "outputs": [
        {
          "output_type": "stream",
          "text": [
            "--2019-06-27 01:09:22--  https://storage.googleapis.com/kaggle-datasets/2637/4381/mbti_1.csv.zip?GoogleAccessId=web-data@kaggle-161607.iam.gserviceaccount.com&Expires=1561827680&Signature=FuZVxTRJq8XHy3Zs2m7Khiac2S2SuYLxNd8fTgqmpFqGqlwwQrQEnBk4bamd6CA1cTSToRFwn8bAqPEatCbaSBmqdSX7K3FcTUid9LEkwQZNq7Yxj0NcV3trg%2FXPMXbtvwhK34wq2UgDmH0hXyOo8kcha6t%2Fc1p87jajs%2BYqJT4NLdbBxlY4n%2FOsZTkfP3%2FNBuBXDdTIjR%2BKeKRLTz4LDB%2BItuMImn%2BNHavJv%2Fw0u1mYg5yrS%2FV2JM%2F%2FHVDbApthmEo5awR5U1H2VwEe6NZNKEaHLz21wVNt3WC0OTHdF7ggAv6X4DQzymh2xhkvsuh0c5HTdJKfwGKwYDTZb14X7w%3D%3D\n",
            "Resolving storage.googleapis.com (storage.googleapis.com)... 74.125.141.128, 2607:f8b0:400c:c06::80\n",
            "Connecting to storage.googleapis.com (storage.googleapis.com)|74.125.141.128|:443... connected.\n",
            "HTTP request sent, awaiting response... 200 OK\n",
            "Length: 26387746 (25M) [application/octet-stream]\n",
            "Saving to: ‘/tmp/mbti.zip’\n",
            "\n",
            "\r/tmp/mbti.zip         0%[                    ]       0  --.-KB/s               \r/tmp/mbti.zip        63%[===========>        ]  16.01M  51.7MB/s               \r/tmp/mbti.zip       100%[===================>]  25.17M  74.9MB/s    in 0.3s    \n",
            "\n",
            "2019-06-27 01:09:22 (74.9 MB/s) - ‘/tmp/mbti.zip’ saved [26387746/26387746]\n",
            "\n"
          ],
          "name": "stdout"
        }
      ]
    },
    {
      "cell_type": "code",
      "metadata": {
        "id": "QiADnlaUwP_S",
        "colab_type": "code",
        "colab": {}
      },
      "source": [
        "# Unzipping the downloaded dataset\n",
        "import os\n",
        "import zipfile\n",
        "\n",
        "local_zip='/tmp/mbti.zip'\n",
        "zip_ref=zipfile.ZipFile(local_zip,'r')\n",
        "zip_ref.extractall('/tmp/mbti')\n",
        "zip_ref.close()"
      ],
      "execution_count": 0,
      "outputs": []
    },
    {
      "cell_type": "code",
      "metadata": {
        "id": "a__1RtaSznsT",
        "colab_type": "code",
        "colab": {
          "base_uri": "https://localhost:8080/",
          "height": 85
        },
        "outputId": "fd61ed97-d083-49dd-eece-bbea8bc9ee69"
      },
      "source": [
        "#Functions for Preprocessing the Dataset\n",
        "import nltk\n",
        "from nltk import word_tokenize\n",
        "nltk.download('stopwords')\n",
        "from nltk.corpus import stopwords\n",
        "nltk.download('punkt')\n",
        "stop_words = set(stopwords.words('english'))\n",
        "\n",
        "\n",
        "def mystopwords(text):\n",
        "    return ' '.join([w for w in word_tokenize(text) if not w in stop_words])\n",
        "\n",
        "import re\n",
        "def clean_text(string):\n",
        "  clean=re.sub(r'\\w+:\\/{2}[\\d\\w-]+(\\.[\\d\\w-]+)*(?:(?:\\/[^\\s/]*))*', ' ',string) #remove url\n",
        "  clean=re.sub('[\\n]',' ',clean) #remove newline character\n",
        "  clean=re.sub('[^a-zA-Z]',' ',clean.lower()) #remove non alphabetic characters\n",
        "  clean=mystopwords(clean) #remove stopwords\n",
        "  return clean"
      ],
      "execution_count": 255,
      "outputs": [
        {
          "output_type": "stream",
          "text": [
            "[nltk_data] Downloading package stopwords to /root/nltk_data...\n",
            "[nltk_data]   Package stopwords is already up-to-date!\n",
            "[nltk_data] Downloading package punkt to /root/nltk_data...\n",
            "[nltk_data]   Package punkt is already up-to-date!\n"
          ],
          "name": "stdout"
        }
      ]
    },
    {
      "cell_type": "code",
      "metadata": {
        "id": "vXT6zF-mva2y",
        "colab_type": "code",
        "colab": {}
      },
      "source": [
        "#Loading the Dataset\n",
        "import pandas as pd\n",
        "df=pd.read_csv('/tmp/mbti/mbti_1.csv')"
      ],
      "execution_count": 0,
      "outputs": []
    },
    {
      "cell_type": "code",
      "metadata": {
        "id": "W82lASgKwh2x",
        "colab_type": "code",
        "colab": {
          "base_uri": "https://localhost:8080/",
          "height": 204
        },
        "outputId": "ffc3bdc6-7004-45ba-ab88-fb6161df5ee6"
      },
      "source": [
        "df.head(5)"
      ],
      "execution_count": 16,
      "outputs": [
        {
          "output_type": "execute_result",
          "data": {
            "text/html": [
              "<div>\n",
              "<style scoped>\n",
              "    .dataframe tbody tr th:only-of-type {\n",
              "        vertical-align: middle;\n",
              "    }\n",
              "\n",
              "    .dataframe tbody tr th {\n",
              "        vertical-align: top;\n",
              "    }\n",
              "\n",
              "    .dataframe thead th {\n",
              "        text-align: right;\n",
              "    }\n",
              "</style>\n",
              "<table border=\"1\" class=\"dataframe\">\n",
              "  <thead>\n",
              "    <tr style=\"text-align: right;\">\n",
              "      <th></th>\n",
              "      <th>type</th>\n",
              "      <th>posts</th>\n",
              "    </tr>\n",
              "  </thead>\n",
              "  <tbody>\n",
              "    <tr>\n",
              "      <th>0</th>\n",
              "      <td>INFJ</td>\n",
              "      <td>'http://www.youtube.com/watch?v=qsXHcwe3krw|||...</td>\n",
              "    </tr>\n",
              "    <tr>\n",
              "      <th>1</th>\n",
              "      <td>ENTP</td>\n",
              "      <td>'I'm finding the lack of me in these posts ver...</td>\n",
              "    </tr>\n",
              "    <tr>\n",
              "      <th>2</th>\n",
              "      <td>INTP</td>\n",
              "      <td>'Good one  _____   https://www.youtube.com/wat...</td>\n",
              "    </tr>\n",
              "    <tr>\n",
              "      <th>3</th>\n",
              "      <td>INTJ</td>\n",
              "      <td>'Dear INTP,   I enjoyed our conversation the o...</td>\n",
              "    </tr>\n",
              "    <tr>\n",
              "      <th>4</th>\n",
              "      <td>ENTJ</td>\n",
              "      <td>'You're fired.|||That's another silly misconce...</td>\n",
              "    </tr>\n",
              "  </tbody>\n",
              "</table>\n",
              "</div>"
            ],
            "text/plain": [
              "   type                                              posts\n",
              "0  INFJ  'http://www.youtube.com/watch?v=qsXHcwe3krw|||...\n",
              "1  ENTP  'I'm finding the lack of me in these posts ver...\n",
              "2  INTP  'Good one  _____   https://www.youtube.com/wat...\n",
              "3  INTJ  'Dear INTP,   I enjoyed our conversation the o...\n",
              "4  ENTJ  'You're fired.|||That's another silly misconce..."
            ]
          },
          "metadata": {
            "tags": []
          },
          "execution_count": 16
        }
      ]
    },
    {
      "cell_type": "code",
      "metadata": {
        "id": "TECAhKU3w02p",
        "colab_type": "code",
        "colab": {}
      },
      "source": [
        "#Cleaning the data \n",
        "data=[]\n",
        "for i in range(len(df)):\n",
        "  l=[]\n",
        "  l.append(df['type'][i])\n",
        "  l.append(clean_text(df['posts'][i]))\n",
        "  data.append(l)"
      ],
      "execution_count": 0,
      "outputs": []
    },
    {
      "cell_type": "code",
      "metadata": {
        "id": "_0CxUCsz1A59",
        "colab_type": "code",
        "colab": {}
      },
      "source": [
        "#Suffling the data and splitting the data into train and test sets (90:10)\n",
        "import random\n",
        "suffled_set=random.sample(data,len(data))\n",
        "train_len=int(len(suffled_set)*0.9)\n",
        "train=suffled_set[:train_len]\n",
        "test=suffled_set[train_len:]"
      ],
      "execution_count": 0,
      "outputs": []
    },
    {
      "cell_type": "code",
      "metadata": {
        "id": "YZIXodSq86M6",
        "colab_type": "code",
        "colab": {
          "base_uri": "https://localhost:8080/",
          "height": 85
        },
        "outputId": "d302635d-2b53-4120-9e71-b9609c951545"
      },
      "source": [
        "#Data Summary\n",
        "print('Length of the Data: ',len(df))\n",
        "print('No. of Training Examples: ',len(train))\n",
        "print('No. of Test Examples: ',len(test))\n",
        "print('No. of Classes: ',df['type'].nunique())"
      ],
      "execution_count": 258,
      "outputs": [
        {
          "output_type": "stream",
          "text": [
            "Length of the Data:  8675\n",
            "No. of Training Examples:  7807\n",
            "No. of Test Examples:  868\n",
            "No. of Classes:  16\n"
          ],
          "name": "stdout"
        }
      ]
    },
    {
      "cell_type": "code",
      "metadata": {
        "id": "ype7kRVR4Jye",
        "colab_type": "code",
        "colab": {}
      },
      "source": [
        "#Separating the personality types (labels) and the posts\n",
        "train_sentences=[]\n",
        "test_sentences=[]\n",
        "train_labels=[]\n",
        "test_labels=[]\n",
        "labels=[]\n",
        "sentences=[]\n",
        "\n",
        "for i in range(len(train)):\n",
        "  train_labels.append(train[i][0])\n",
        "  train_sentences.append(train[i][1])\n",
        "\n",
        "for i in range(len(test)):\n",
        "  test_labels.append(test[i][0])\n",
        "  test_sentences.append(test[i][1])\n",
        "\n",
        "for i in range(len(suffled_set)):\n",
        "  labels.append(suffled_set[i][0])\n",
        "  sentences.append(suffled_set[i][1])"
      ],
      "execution_count": 0,
      "outputs": []
    },
    {
      "cell_type": "code",
      "metadata": {
        "id": "8ZDit0Jn4zo5",
        "colab_type": "code",
        "colab": {
          "base_uri": "https://localhost:8080/",
          "height": 51
        },
        "outputId": "416ca2eb-1c81-4666-c7a6-84985bee16be"
      },
      "source": [
        "#Tokenization and Padding\n",
        "import tensorflow as tf\n",
        "import numpy as np\n",
        "\n",
        "from tensorflow.keras.preprocessing.text import Tokenizer\n",
        "from tensorflow.keras.preprocessing.sequence import pad_sequences\n",
        "from tensorflow.keras.utils import to_categorical\n",
        "from tensorflow.keras import regularizers\n",
        "\n",
        "embedding_dim = 300\n",
        "max_length = 900\n",
        "trunc_type='post'\n",
        "padding_type='post'\n",
        "oov_tok = \"<OOV>\"\n",
        "vocab_len=14999\n",
        "\n",
        "\n",
        "tokenizer = Tokenizer(num_words=vocab_len+1,oov_token=oov_tok)\n",
        "tokenizer.fit_on_texts(sentences)\n",
        "\n",
        "word_index = tokenizer.word_index\n",
        "vocab_size=len(word_index)\n",
        "print('Original Size of Vocabulary: ',vocab_size)\n",
        "\n",
        "word_index = {e:i for e,i in word_index.items() if i <= vocab_len+1} #Reducing the Size of Vocabulary\n",
        "print('New Size of Vocabulary: ',len(word_index))\n",
        "\n",
        "sequences = tokenizer.texts_to_sequences(sentences)\n",
        "padded = pad_sequences(sequences, maxlen=max_length, padding=padding_type, truncating=trunc_type)\n",
        "\n",
        "train_sequences = tokenizer.texts_to_sequences(train_sentences)\n",
        "train_padded = pad_sequences(train_sequences, maxlen=max_length, padding=padding_type, truncating=trunc_type)\n",
        "\n",
        "test_sequences = tokenizer.texts_to_sequences(test_sentences)\n",
        "test_padded = pad_sequences(test_sequences, maxlen=max_length, padding=padding_type, truncating=trunc_type)\n",
        "\n",
        "#Label Encoding the labels\n",
        "from sklearn import preprocessing\n",
        "le = preprocessing.LabelEncoder()\n",
        "le.fit(train_labels)\n",
        "train_labels=le.transform(train_labels) \n",
        "le.fit(test_labels)\n",
        "test_labels=le.transform(test_labels) \n",
        "le.fit(labels)\n",
        "labels=le.transform(labels) \n",
        "\n",
        "train_labels=np.expand_dims(train_labels, axis=1)\n",
        "test_labels=np.expand_dims(test_labels, axis=1)\n",
        "labels=np.expand_dims(labels, axis=1)\n"
      ],
      "execution_count": 185,
      "outputs": [
        {
          "output_type": "stream",
          "text": [
            "Original Size of Vocabulary:  96937\n",
            "New Size of Vocabulary:  15000\n"
          ],
          "name": "stdout"
        }
      ]
    },
    {
      "cell_type": "code",
      "metadata": {
        "id": "Sx1w1MOg8c82",
        "colab_type": "code",
        "colab": {
          "base_uri": "https://localhost:8080/",
          "height": 119
        },
        "outputId": "2a103979-539d-4b2f-fe4d-030f10559821"
      },
      "source": [
        "#Dimension of Data after Tokenizing and Padding\n",
        "print('Dimension of Training Data: ',train_padded.shape)\n",
        "print('Dimension of Test Data: ',test_padded.shape)\n",
        "print('Dimension of Training Labels: ',train_labels.shape)\n",
        "print('Dimension of Test Labels: ',test_labels.shape)\n",
        "print('Dimension of Data: ',padded.shape)\n",
        "print('Dimension of Labels: ',labels.shape)"
      ],
      "execution_count": 186,
      "outputs": [
        {
          "output_type": "stream",
          "text": [
            "Dimension of Training Data:  (7807, 900)\n",
            "Dimension of Test Data:  (868, 900)\n",
            "Dimension of Training Labels:  (7807, 1)\n",
            "Dimension of Test Labels:  (868, 1)\n",
            "Dimension of Data:  (8675, 900)\n",
            "Dimension of Labels:  (8675, 1)\n"
          ],
          "name": "stdout"
        }
      ]
    },
    {
      "cell_type": "code",
      "metadata": {
        "id": "BeXjhK2CV1zu",
        "colab_type": "code",
        "colab": {
          "base_uri": "https://localhost:8080/",
          "height": 34
        },
        "outputId": "2cb81467-7b77-4155-9a53-e3492892e0a2"
      },
      "source": [
        "# Run this cell to mount your Google Drive.\n",
        "from google.colab import drive\n",
        "drive.mount('/content/drive')"
      ],
      "execution_count": 1,
      "outputs": [
        {
          "output_type": "stream",
          "text": [
            "Drive already mounted at /content/drive; to attempt to forcibly remount, call drive.mount(\"/content/drive\", force_remount=True).\n"
          ],
          "name": "stdout"
        }
      ]
    },
    {
      "cell_type": "code",
      "metadata": {
        "id": "ugBgDP4z9R7x",
        "colab_type": "code",
        "colab": {}
      },
      "source": [
        "# Unzipping the fasttext pretrained model from Google Drive\n",
        "import os\n",
        "import zipfile\n",
        "\n",
        "local_zip='/content/drive/My Drive/crawl-300d-2M.vec.zip'\n",
        "zip_ref=zipfile.ZipFile(local_zip,'r')\n",
        "zip_ref.extractall('/content/drive/My Drive/crawl-300d-2M.vec')\n",
        "zip_ref.close()"
      ],
      "execution_count": 0,
      "outputs": []
    },
    {
      "cell_type": "code",
      "metadata": {
        "id": "cMQS3yqPYhhJ",
        "colab_type": "code",
        "colab": {}
      },
      "source": [
        "# Loading the pretrained vectors\n",
        "embeddings_index = {}\n",
        "import numpy as np\n",
        "with open('/content/drive/My Drive/crawl-300d-2M.vec/crawl-300d-2M.vec') as f:\n",
        "    for line in f:\n",
        "        values = line.split()\n",
        "        word = values[0]\n",
        "        coefs = np.asarray(values[1:], dtype='float32')\n",
        "        embeddings_index[word] = coefs"
      ],
      "execution_count": 0,
      "outputs": []
    },
    {
      "cell_type": "code",
      "metadata": {
        "id": "bbQgAn_pYW0X",
        "colab_type": "code",
        "colab": {}
      },
      "source": [
        "# Creating an embedding matrix that contains the vectors of the words in the MBTI dataset\n",
        "embeddings_matrix = np.zeros((vocab_len+2, embedding_dim))\n",
        "for word, i in word_index.items():\n",
        "    embedding_vector = embeddings_index.get(word)\n",
        "    if embedding_vector is not None:\n",
        "        embeddings_matrix[i] = embedding_vector\n",
        "        "
      ],
      "execution_count": 0,
      "outputs": []
    },
    {
      "cell_type": "code",
      "metadata": {
        "id": "6wWKJ3nrfTYn",
        "colab_type": "code",
        "colab": {
          "base_uri": "https://localhost:8080/",
          "height": 34
        },
        "outputId": "91edb998-e317-46a0-8576-4ff9a147643a"
      },
      "source": [
        "#embeddings_matrix=np.delete(embeddings_matrix, 1, 0)\n",
        "embeddings_matrix.shape"
      ],
      "execution_count": 95,
      "outputs": [
        {
          "output_type": "execute_result",
          "data": {
            "text/plain": [
              "(15000, 300)"
            ]
          },
          "metadata": {
            "tags": []
          },
          "execution_count": 95
        }
      ]
    },
    {
      "cell_type": "code",
      "metadata": {
        "id": "xQ7VHN4Of6tX",
        "colab_type": "code",
        "colab": {
          "base_uri": "https://localhost:8080/",
          "height": 34
        },
        "outputId": "3f47b81b-e2bf-4fb8-db94-504203875968"
      },
      "source": [
        "print('Shape of embeddings matrix: ',embeddings_matrix.shape)"
      ],
      "execution_count": 39,
      "outputs": [
        {
          "output_type": "stream",
          "text": [
            "Shape of embeddings matrix:  (15000, 300)\n"
          ],
          "name": "stdout"
        }
      ]
    },
    {
      "cell_type": "code",
      "metadata": {
        "id": "uUSqC6Rwg2R-",
        "colab_type": "code",
        "colab": {}
      },
      "source": [
        "#from keras.regularizers import l2\n",
        "#Building the CNN Model\n",
        "model_conv = tf.keras.Sequential([\n",
        "    #tf.keras.layers.Embedding(vocab_len+1, embedding_dim, input_length=max_length, weights = [embeddings_matrix], trainable = False),\n",
        "    tf.keras.layers.Embedding(vocab_len+1, embedding_dim, input_length=max_length),\n",
        "    tf.keras.layers.Conv1D(64,3,activation='relu'),\n",
        "    tf.keras.layers.MaxPooling1D(2),\n",
        "    tf.keras.layers.Conv1D(128,3,activation='relu'),\n",
        "    tf.keras.layers.MaxPooling1D(2),\n",
        "    tf.keras.layers.Dropout(0.2),\n",
        "    tf.keras.layers.Flatten(),\n",
        "    #tf.keras.layers.Bidirectional(tf.keras.layers.LSTM(64)),\n",
        "    tf.keras.layers.Dense(128, activation='relu'),\n",
        "    tf.keras.layers.Dropout(0.2),\n",
        "    tf.keras.layers.Dense(16, activation='softmax')\n",
        "])"
      ],
      "execution_count": 0,
      "outputs": []
    },
    {
      "cell_type": "code",
      "metadata": {
        "id": "UwIlRYdKhJKb",
        "colab_type": "code",
        "colab": {
          "base_uri": "https://localhost:8080/",
          "height": 493
        },
        "outputId": "e2ea814f-a973-4942-82aa-7491ec8af43b"
      },
      "source": [
        "model_conv.summary()"
      ],
      "execution_count": 225,
      "outputs": [
        {
          "output_type": "stream",
          "text": [
            "Model: \"sequential_23\"\n",
            "_________________________________________________________________\n",
            "Layer (type)                 Output Shape              Param #   \n",
            "=================================================================\n",
            "embedding_24 (Embedding)     (None, 900, 300)          4500000   \n",
            "_________________________________________________________________\n",
            "conv1d_32 (Conv1D)           (None, 898, 64)           57664     \n",
            "_________________________________________________________________\n",
            "max_pooling1d_32 (MaxPooling (None, 449, 64)           0         \n",
            "_________________________________________________________________\n",
            "conv1d_33 (Conv1D)           (None, 447, 128)          24704     \n",
            "_________________________________________________________________\n",
            "max_pooling1d_33 (MaxPooling (None, 223, 128)          0         \n",
            "_________________________________________________________________\n",
            "dropout_19 (Dropout)         (None, 223, 128)          0         \n",
            "_________________________________________________________________\n",
            "flatten_19 (Flatten)         (None, 28544)             0         \n",
            "_________________________________________________________________\n",
            "dense_46 (Dense)             (None, 128)               3653760   \n",
            "_________________________________________________________________\n",
            "dropout_20 (Dropout)         (None, 128)               0         \n",
            "_________________________________________________________________\n",
            "dense_47 (Dense)             (None, 16)                2064      \n",
            "=================================================================\n",
            "Total params: 8,238,192\n",
            "Trainable params: 8,238,192\n",
            "Non-trainable params: 0\n",
            "_________________________________________________________________\n"
          ],
          "name": "stdout"
        }
      ]
    },
    {
      "cell_type": "code",
      "metadata": {
        "id": "Fx-ECQZShTAF",
        "colab_type": "code",
        "colab": {
          "base_uri": "https://localhost:8080/",
          "height": 714
        },
        "outputId": "fac95f17-e3b2-417a-c9e3-e5c807990d66"
      },
      "source": [
        "model_conv.compile(loss='sparse_categorical_crossentropy',optimizer='adam',metrics=['accuracy'])\n",
        "num_epochs = 20\n",
        "history=model_conv.fit(train_padded, train_labels, epochs=num_epochs, validation_split=0.2)"
      ],
      "execution_count": 226,
      "outputs": [
        {
          "output_type": "stream",
          "text": [
            "Train on 6245 samples, validate on 1562 samples\n",
            "Epoch 1/20\n",
            "6245/6245 [==============================] - 4s 666us/sample - loss: 2.1500 - acc: 0.2876 - val_loss: 1.7867 - val_acc: 0.4629\n",
            "Epoch 2/20\n",
            "6245/6245 [==============================] - 3s 434us/sample - loss: 1.5041 - acc: 0.5572 - val_loss: 1.5750 - val_acc: 0.5615\n",
            "Epoch 3/20\n",
            "6245/6245 [==============================] - 3s 437us/sample - loss: 0.9098 - acc: 0.7193 - val_loss: 1.7912 - val_acc: 0.5359\n",
            "Epoch 4/20\n",
            "6245/6245 [==============================] - 3s 435us/sample - loss: 0.4976 - acc: 0.8434 - val_loss: 2.3056 - val_acc: 0.5301\n",
            "Epoch 5/20\n",
            "6245/6245 [==============================] - 3s 436us/sample - loss: 0.3090 - acc: 0.9026 - val_loss: 2.6846 - val_acc: 0.5314\n",
            "Epoch 6/20\n",
            "6245/6245 [==============================] - 3s 436us/sample - loss: 0.1859 - acc: 0.9380 - val_loss: 3.4020 - val_acc: 0.5250\n",
            "Epoch 7/20\n",
            "6245/6245 [==============================] - 3s 433us/sample - loss: 0.1470 - acc: 0.9532 - val_loss: 3.7062 - val_acc: 0.5083\n",
            "Epoch 8/20\n",
            "6245/6245 [==============================] - 3s 436us/sample - loss: 0.1210 - acc: 0.9617 - val_loss: 3.8280 - val_acc: 0.5218\n",
            "Epoch 9/20\n",
            "6245/6245 [==============================] - 3s 435us/sample - loss: 0.0748 - acc: 0.9750 - val_loss: 3.7918 - val_acc: 0.5013\n",
            "Epoch 10/20\n",
            "6245/6245 [==============================] - 3s 434us/sample - loss: 0.0941 - acc: 0.9709 - val_loss: 3.9444 - val_acc: 0.5122\n",
            "Epoch 11/20\n",
            "6245/6245 [==============================] - 3s 434us/sample - loss: 0.0686 - acc: 0.9777 - val_loss: 4.6595 - val_acc: 0.5250\n",
            "Epoch 12/20\n",
            "6245/6245 [==============================] - 3s 435us/sample - loss: 0.0675 - acc: 0.9787 - val_loss: 4.7134 - val_acc: 0.5224\n",
            "Epoch 13/20\n",
            "6245/6245 [==============================] - 3s 434us/sample - loss: 0.0595 - acc: 0.9808 - val_loss: 4.5203 - val_acc: 0.5198\n",
            "Epoch 14/20\n",
            "6245/6245 [==============================] - 3s 439us/sample - loss: 0.0664 - acc: 0.9793 - val_loss: 5.5601 - val_acc: 0.5262\n",
            "Epoch 15/20\n",
            "6245/6245 [==============================] - 3s 437us/sample - loss: 0.0498 - acc: 0.9864 - val_loss: 4.6755 - val_acc: 0.5109\n",
            "Epoch 16/20\n",
            "6245/6245 [==============================] - 3s 440us/sample - loss: 0.0493 - acc: 0.9830 - val_loss: 5.6960 - val_acc: 0.5230\n",
            "Epoch 17/20\n",
            "6245/6245 [==============================] - 3s 438us/sample - loss: 0.0540 - acc: 0.9829 - val_loss: 5.3179 - val_acc: 0.5250\n",
            "Epoch 18/20\n",
            "6245/6245 [==============================] - 3s 438us/sample - loss: 0.0560 - acc: 0.9825 - val_loss: 4.7601 - val_acc: 0.5250\n",
            "Epoch 19/20\n",
            "6245/6245 [==============================] - 3s 440us/sample - loss: 0.0637 - acc: 0.9808 - val_loss: 5.0489 - val_acc: 0.5314\n",
            "Epoch 20/20\n",
            "6245/6245 [==============================] - 3s 439us/sample - loss: 0.0439 - acc: 0.9875 - val_loss: 5.5195 - val_acc: 0.5205\n"
          ],
          "name": "stdout"
        }
      ]
    },
    {
      "cell_type": "code",
      "metadata": {
        "id": "N8kCEltcwhkX",
        "colab_type": "code",
        "colab": {
          "base_uri": "https://localhost:8080/",
          "height": 607
        },
        "outputId": "500c6b4e-e83f-4339-c113-41f3dd65f16f"
      },
      "source": [
        "import matplotlib.pyplot as plt\n",
        "\n",
        "\n",
        "acc=history.history['acc']\n",
        "val_acc=history.history['val_acc']\n",
        "loss=history.history['loss']\n",
        "val_loss=history.history['val_loss']\n",
        "\n",
        "epochs=range(len(acc)) # Get number of epochs\n",
        "\n",
        "plt.plot(epochs, acc, 'r')\n",
        "plt.plot(epochs, val_acc, 'b')\n",
        "plt.title('Training and validation accuracy')\n",
        "plt.xlabel(\"Epochs\")\n",
        "plt.ylabel(\"Accuracy\")\n",
        "plt.legend([\"Accuracy\", \"Validation Accuracy\"])\n",
        "\n",
        "plt.figure()\n",
        "\n",
        "plt.plot(epochs, loss, 'r')\n",
        "plt.plot(epochs, val_loss, 'b')\n",
        "plt.title('Training and validation loss')\n",
        "plt.xlabel(\"Epochs\")\n",
        "plt.ylabel(\"Loss\")\n",
        "plt.legend([\"Loss\", \"Validation Loss\"])\n",
        "\n",
        "plt.figure()"
      ],
      "execution_count": 227,
      "outputs": [
        {
          "output_type": "execute_result",
          "data": {
            "text/plain": [
              "<Figure size 432x288 with 0 Axes>"
            ]
          },
          "metadata": {
            "tags": []
          },
          "execution_count": 227
        },
        {
          "output_type": "display_data",
          "data": {
            "image/png": "[encoded data removed]",
            "text/plain": [
              "<Figure size 432x288 with 1 Axes>"
            ]
          },
          "metadata": {
            "tags": []
          }
        },
        {
          "output_type": "display_data",
          "data": {
            "image/png": "[encoded data removed]",
            "text/plain": [
              "<Figure size 432x288 with 1 Axes>"
            ]
          },
          "metadata": {
            "tags": []
          }
        },
        {
          "output_type": "display_data",
          "data": {
            "text/plain": [
              "<Figure size 432x288 with 0 Axes>"
            ]
          },
          "metadata": {
            "tags": []
          }
        }
      ]
    },
    {
      "cell_type": "markdown",
      "metadata": {
        "id": "dXyqIMbKwJPC",
        "colab_type": "text"
      },
      "source": [
        "# **We can see that while the training  accuracy is close to 100%, validation accuracy is just around 50%. Lets find out why!**"
      ]
    },
    {
      "cell_type": "code",
      "metadata": {
        "id": "VFPVmUOmMr4a",
        "colab_type": "code",
        "colab": {
          "base_uri": "https://localhost:8080/",
          "height": 51
        },
        "outputId": "c8a49dd1-45ff-4651-a652-66265631077c"
      },
      "source": [
        "score, acc = model_conv.evaluate(test_padded, test_labels, verbose=2)\n",
        "print('Test accuracy:', acc)"
      ],
      "execution_count": 228,
      "outputs": [
        {
          "output_type": "stream",
          "text": [
            "868/868 - 0s - loss: 5.8859 - acc: 0.5173\n",
            "Test accuracy: 0.5172811\n"
          ],
          "name": "stdout"
        }
      ]
    },
    {
      "cell_type": "code",
      "metadata": {
        "id": "m-EupBBj5wiU",
        "colab_type": "code",
        "colab": {}
      },
      "source": [
        "pred_prob_test_labels=model_conv.predict(test_padded)\n",
        "\n",
        "pred_test_labels=[]\n",
        "for i in range(len(pred_prob_test_labels)):\n",
        "  pred_test_labels.append(np.argmax(pred_prob_test_labels[i]))  "
      ],
      "execution_count": 0,
      "outputs": []
    },
    {
      "cell_type": "code",
      "metadata": {
        "id": "yA3Qi13o6pLr",
        "colab_type": "code",
        "colab": {}
      },
      "source": [
        "pred_test_labels=np.array(pred_test_labels)\n",
        "true_test_labels=np.squeeze(test_labels, axis=1)"
      ],
      "execution_count": 0,
      "outputs": []
    },
    {
      "cell_type": "code",
      "metadata": {
        "id": "TJymQycsNaXJ",
        "colab_type": "code",
        "colab": {
          "base_uri": "https://localhost:8080/",
          "height": 34
        },
        "outputId": "971d32d6-d977-463e-84df-dcf971b833f6"
      },
      "source": [
        "from sklearn.metrics import cohen_kappa_score\n",
        "cohen_score = cohen_kappa_score(true_test_labels, pred_test_labels)\n",
        "print('Cohen Score: ',cohen_score)"
      ],
      "execution_count": 231,
      "outputs": [
        {
          "output_type": "stream",
          "text": [
            "Cohen Score:  0.43641516831210625\n"
          ],
          "name": "stdout"
        }
      ]
    },
    {
      "cell_type": "code",
      "metadata": {
        "id": "9NdcMgsL_0bD",
        "colab_type": "code",
        "colab": {
          "base_uri": "https://localhost:8080/",
          "height": 458
        },
        "outputId": "f1c024bf-45e9-48f7-adc0-25c6098ebae4"
      },
      "source": [
        "def plot_confusion_matrix(y_true, y_pred, classes,\n",
        "                          normalize=False,\n",
        "                          title=None,\n",
        "                          cmap=plt.cm.Blues):\n",
        "    \"\"\"\n",
        "    This function prints and plots the confusion matrix.\n",
        "    Normalization can be applied by setting `normalize=True`.\n",
        "    \"\"\"\n",
        "    if not title:\n",
        "        if normalize:\n",
        "            title = 'Normalized confusion matrix'\n",
        "        else:\n",
        "            title = 'Confusion matrix'\n",
        "\n",
        "    # Compute confusion matrix\n",
        "    cm = confusion_matrix(y_true, y_pred)\n",
        "    # Only use the labels that appear in the data\n",
        "    #classes = classes[unique_labels(y_true, y_pred)]\n",
        "    \"\"\"if normalize:\n",
        "        cm = cm.astype('float') / cm.sum(axis=1)[:, np.newaxis]\n",
        "        print(\"Normalized confusion matrix\")\n",
        "    else:\n",
        "        print('Confusion matrix, without normalization')\n",
        "\n",
        "    print(cm)\"\"\"\n",
        "\n",
        "    fig, ax = plt.subplots(figsize=(8, 6))\n",
        "    im = ax.imshow(cm, interpolation='nearest', cmap=cmap)\n",
        "    ax.figure.colorbar(im, ax=ax)\n",
        "    # We want to show all ticks...\n",
        "    ax.set(xticks=np.arange(cm.shape[1]),\n",
        "           yticks=np.arange(cm.shape[0]),\n",
        "           # ... and label them with the respective list entries\n",
        "           xticklabels=classes, yticklabels=classes,\n",
        "           title=title,\n",
        "           ylabel='True label',\n",
        "           xlabel='Predicted label')\n",
        "\n",
        "    # Rotate the tick labels and set their alignment.\n",
        "    plt.setp(ax.get_xticklabels(), rotation=90, ha=\"right\",\n",
        "             rotation_mode=\"anchor\")\n",
        "\n",
        "    # Loop over data dimensions and create text annotations.\n",
        "    fmt = '.2f' if normalize else 'd'\n",
        "    thresh = cm.max() / 2.\n",
        "    for i in range(cm.shape[0]):\n",
        "        for j in range(cm.shape[1]):\n",
        "            ax.text(j, i, format(cm[i, j], fmt),\n",
        "                    ha=\"center\", va=\"center\",\n",
        "                    color=\"white\" if cm[i, j] > thresh else \"black\")\n",
        "\n",
        "    fig.tight_layout()\n",
        "    return ax\n",
        "\n",
        "\n",
        "np.set_printoptions(precision=2)\n",
        "\n",
        "# Plot non-normalized confusion matrix\n",
        "plot_confusion_matrix(true_test_labels, pred_test_labels, classes=df['type'].unique(),\n",
        "                      title='Confusion Matrix')\n"
      ],
      "execution_count": 232,
      "outputs": [
        {
          "output_type": "execute_result",
          "data": {
            "text/plain": [
              "<matplotlib.axes._subplots.AxesSubplot at 0x7f551484def0>"
            ]
          },
          "metadata": {
            "tags": []
          },
          "execution_count": 232
        },
        {
          "output_type": "display_data",
          "data": {
            "image/png": "[encoded data removed]",
            "text/plain": [
              "<Figure size 576x432 with 2 Axes>"
            ]
          },
          "metadata": {
            "tags": []
          }
        }
      ]
    },
    {
      "cell_type": "code",
      "metadata": {
        "id": "gdcdRHJDtT6Q",
        "colab_type": "code",
        "colab": {
          "base_uri": "https://localhost:8080/",
          "height": 328
        },
        "outputId": "fd5a4dbe-8fc3-4732-8836-ca3f7eac3762"
      },
      "source": [
        "%matplotlib inline\n",
        "\n",
        "y=df['type'].value_counts()\n",
        "x=df['type'].unique()\n",
        "plt.bar(x, y, width=0.8, bottom=None, align='center', data=df)\n",
        "plt.xticks(rotation='vertical')\n",
        "plt.xlabel('Personality Types')\n",
        "plt.ylabel('Number of Persons')\n",
        "plt.title('Personality Types Distribution')"
      ],
      "execution_count": 105,
      "outputs": [
        {
          "output_type": "execute_result",
          "data": {
            "text/plain": [
              "Text(0.5, 1.0, 'Personality Types Distribution')"
            ]
          },
          "metadata": {
            "tags": []
          },
          "execution_count": 105
        },
        {
          "output_type": "display_data",
          "data": {
            "image/png": "[encoded data removed]",
            "text/plain": [
              "<Figure size 432x288 with 1 Axes>"
            ]
          },
          "metadata": {
            "tags": []
          }
        }
      ]
    },
    {
      "cell_type": "markdown",
      "metadata": {
        "id": "Wm11a7cCxiI5",
        "colab_type": "text"
      },
      "source": [
        "# **It is apparent from the graph above that there is severe class imbalance problem with the dataset.**"
      ]
    },
    {
      "cell_type": "markdown",
      "metadata": {
        "id": "OgWokaoqOqI_",
        "colab_type": "text"
      },
      "source": [
        "**Let us try a sampling technique to remove class imbalance**"
      ]
    },
    {
      "cell_type": "code",
      "metadata": {
        "id": "xcK_1m3Lx3Fb",
        "colab_type": "code",
        "colab": {
          "base_uri": "https://localhost:8080/",
          "height": 122
        },
        "outputId": "06b60c84-55f6-4f37-96a1-65fc9bcdef5d"
      },
      "source": [
        "from imblearn.over_sampling import SMOTE\n",
        "#Over-sampling: SMOTE\n",
        "#SMOTE (Synthetic Minority Oversampling TEchnique) consists of synthesizing elements for the minority class, \n",
        "#based on those that already exist. It works randomly picking a point from the minority class and computing \n",
        "#the k-nearest neighbors for this point.The synthetic points are added between the chosen point and its neighbors.\n",
        "#We'll use ratio='minority' to resample the minority class.\n",
        "smote = SMOTE('minority')\n",
        "\n",
        "X_sm, y_sm = smote.fit_sample(train_padded, train_labels)\n",
        "print(X_sm.shape, y_sm.shape)"
      ],
      "execution_count": 199,
      "outputs": [
        {
          "output_type": "stream",
          "text": [
            "(9432, 900) (9432,)\n"
          ],
          "name": "stdout"
        },
        {
          "output_type": "stream",
          "text": [
            "/usr/local/lib/python3.6/dist-packages/sklearn/externals/six.py:31: DeprecationWarning: The module is deprecated in version 0.21 and will be removed in version 0.23 since we've dropped support for Python 2.7. Please rely on the official version of six (https://pypi.org/project/six/).\n",
            "  \"(https://pypi.org/project/six/).\", DeprecationWarning)\n",
            "/usr/local/lib/python3.6/dist-packages/sklearn/utils/validation.py:724: DataConversionWarning: A column-vector y was passed when a 1d array was expected. Please change the shape of y to (n_samples, ), for example using ravel().\n",
            "  y = column_or_1d(y, warn=True)\n"
          ],
          "name": "stderr"
        }
      ]
    },
    {
      "cell_type": "code",
      "metadata": {
        "id": "S16Hcg12OnlL",
        "colab_type": "code",
        "colab": {
          "base_uri": "https://localhost:8080/",
          "height": 714
        },
        "outputId": "e96cea73-0a60-4626-d58e-5861339ca95b"
      },
      "source": [
        "from sklearn.utils import class_weight\n",
        "class_weight = class_weight.compute_class_weight('balanced' ,np.unique(train_labels) ,np.squeeze(train_labels, axis=1))\n",
        "history= model_conv.fit(X_sm, y_sm,\n",
        "                    epochs=20,\n",
        "                    verbose=2,\n",
        "                    validation_split=0.2)"
      ],
      "execution_count": 239,
      "outputs": [
        {
          "output_type": "stream",
          "text": [
            "Train on 7545 samples, validate on 1887 samples\n",
            "Epoch 1/20\n",
            "7545/7545 - 3s - loss: 0.0409 - acc: 0.9882 - val_loss: 23.8787 - val_acc: 0.0689\n",
            "Epoch 2/20\n",
            "7545/7545 - 3s - loss: 0.0435 - acc: 0.9882 - val_loss: 23.6471 - val_acc: 0.0636\n",
            "Epoch 3/20\n",
            "7545/7545 - 3s - loss: 0.0387 - acc: 0.9885 - val_loss: 26.3584 - val_acc: 0.0636\n",
            "Epoch 4/20\n",
            "7545/7545 - 3s - loss: 0.0345 - acc: 0.9894 - val_loss: 27.7311 - val_acc: 0.0700\n",
            "Epoch 5/20\n",
            "7545/7545 - 3s - loss: 0.0444 - acc: 0.9874 - val_loss: 26.6372 - val_acc: 0.0662\n",
            "Epoch 6/20\n",
            "7545/7545 - 3s - loss: 0.0336 - acc: 0.9905 - val_loss: 29.6547 - val_acc: 0.0678\n",
            "Epoch 7/20\n",
            "7545/7545 - 3s - loss: 0.0425 - acc: 0.9886 - val_loss: 31.2485 - val_acc: 0.0737\n",
            "Epoch 8/20\n",
            "7545/7545 - 3s - loss: 0.0343 - acc: 0.9890 - val_loss: 24.8995 - val_acc: 0.0731\n",
            "Epoch 9/20\n",
            "7545/7545 - 3s - loss: 0.0548 - acc: 0.9841 - val_loss: 29.4350 - val_acc: 0.0705\n",
            "Epoch 10/20\n",
            "7545/7545 - 3s - loss: 0.0325 - acc: 0.9901 - val_loss: 26.7302 - val_acc: 0.0715\n",
            "Epoch 11/20\n",
            "7545/7545 - 3s - loss: 0.0334 - acc: 0.9913 - val_loss: 28.7710 - val_acc: 0.0705\n",
            "Epoch 12/20\n",
            "7545/7545 - 3s - loss: 0.0452 - acc: 0.9883 - val_loss: 27.6631 - val_acc: 0.0726\n",
            "Epoch 13/20\n",
            "7545/7545 - 3s - loss: 0.0158 - acc: 0.9947 - val_loss: 30.9275 - val_acc: 0.0705\n",
            "Epoch 14/20\n",
            "7545/7545 - 3s - loss: 0.0365 - acc: 0.9894 - val_loss: 42.0182 - val_acc: 0.0747\n",
            "Epoch 15/20\n",
            "7545/7545 - 3s - loss: 0.0360 - acc: 0.9905 - val_loss: 32.3203 - val_acc: 0.0768\n",
            "Epoch 16/20\n",
            "7545/7545 - 3s - loss: 0.0270 - acc: 0.9930 - val_loss: 31.1827 - val_acc: 0.0700\n",
            "Epoch 17/20\n",
            "7545/7545 - 3s - loss: 0.0267 - acc: 0.9930 - val_loss: 27.6007 - val_acc: 0.0710\n",
            "Epoch 18/20\n",
            "7545/7545 - 3s - loss: 0.0219 - acc: 0.9928 - val_loss: 28.4687 - val_acc: 0.0715\n",
            "Epoch 19/20\n",
            "7545/7545 - 3s - loss: 0.0205 - acc: 0.9943 - val_loss: 33.8435 - val_acc: 0.0700\n",
            "Epoch 20/20\n",
            "7545/7545 - 3s - loss: 0.0319 - acc: 0.9915 - val_loss: 36.9182 - val_acc: 0.0684\n"
          ],
          "name": "stdout"
        }
      ]
    },
    {
      "cell_type": "code",
      "metadata": {
        "id": "s2lg_Xs8Tb33",
        "colab_type": "code",
        "colab": {
          "base_uri": "https://localhost:8080/",
          "height": 51
        },
        "outputId": "8d666308-6d82-4e41-eb7a-04d0fff94cd2"
      },
      "source": [
        "score, acc = model_conv.evaluate(test_padded, test_labels, verbose=2)\n",
        "print('Test accuracy:', acc)"
      ],
      "execution_count": 241,
      "outputs": [
        {
          "output_type": "stream",
          "text": [
            "868/868 - 0s - loss: 7.9201 - acc: 0.5415\n",
            "Test accuracy: 0.54147464\n"
          ],
          "name": "stdout"
        }
      ]
    },
    {
      "cell_type": "markdown",
      "metadata": {
        "id": "qrGF2OW3Xfe-",
        "colab_type": "text"
      },
      "source": [
        "**We can see that after using a sampling technique, the validation accuracy was abysmal. However, the test accuracy improved by around 2.5%**"
      ]
    },
    {
      "cell_type": "markdown",
      "metadata": {
        "id": "smjS6b4rease",
        "colab_type": "text"
      },
      "source": [
        "**Let's try some traditional ML algorithms**"
      ]
    },
    {
      "cell_type": "markdown",
      "metadata": {
        "id": "6NgMZZaReiqq",
        "colab_type": "text"
      },
      "source": [
        "# **Multinomial Naive Bayes Classifier**"
      ]
    },
    {
      "cell_type": "code",
      "metadata": {
        "id": "o56nhYtJZHyQ",
        "colab_type": "code",
        "colab": {}
      },
      "source": [
        "from sklearn.feature_extraction.text import CountVectorizer\n",
        "from sklearn.feature_extraction.text import TfidfTransformer\n",
        "from sklearn.naive_bayes import MultinomialNB\n",
        "from sklearn.pipeline import Pipeline\n",
        "pipeline=Pipeline([('bow',CountVectorizer(analyzer=clean_text)),\n",
        "                   ('tfidf',TfidfTransformer()),\n",
        "                   ('classifier',MultinomialNB())\n",
        "                   ])\n"
      ],
      "execution_count": 0,
      "outputs": []
    },
    {
      "cell_type": "code",
      "metadata": {
        "id": "SaQDK3lmcPXl",
        "colab_type": "code",
        "colab": {
          "base_uri": "https://localhost:8080/",
          "height": 306
        },
        "outputId": "a018b645-f050-4648-ad06-d9cdf2c86580"
      },
      "source": [
        "pipeline.fit(train_sentences,train_labels)"
      ],
      "execution_count": 261,
      "outputs": [
        {
          "output_type": "execute_result",
          "data": {
            "text/plain": [
              "Pipeline(memory=None,\n",
              "         steps=[('bow',\n",
              "                 CountVectorizer(analyzer=<function clean_text at 0x7f5539238488>,\n",
              "                                 binary=False, decode_error='strict',\n",
              "                                 dtype=<class 'numpy.int64'>, encoding='utf-8',\n",
              "                                 input='content', lowercase=True, max_df=1.0,\n",
              "                                 max_features=None, min_df=1,\n",
              "                                 ngram_range=(1, 1), preprocessor=None,\n",
              "                                 stop_words=None, strip_accents=None,\n",
              "                                 token_pattern='(?u)\\\\b\\\\w\\\\w+\\\\b',\n",
              "                                 tokenizer=None, vocabulary=None)),\n",
              "                ('tfidf',\n",
              "                 TfidfTransformer(norm='l2', smooth_idf=True,\n",
              "                                  sublinear_tf=False, use_idf=True)),\n",
              "                ('classifier',\n",
              "                 MultinomialNB(alpha=1.0, class_prior=None, fit_prior=True))],\n",
              "         verbose=False)"
            ]
          },
          "metadata": {
            "tags": []
          },
          "execution_count": 261
        }
      ]
    },
    {
      "cell_type": "code",
      "metadata": {
        "id": "ukyDqcfGX5d_",
        "colab_type": "code",
        "colab": {}
      },
      "source": [
        "pred=pipeline.predict(test_sentences)"
      ],
      "execution_count": 0,
      "outputs": []
    },
    {
      "cell_type": "code",
      "metadata": {
        "id": "MRWPN6H4You9",
        "colab_type": "code",
        "colab": {
          "base_uri": "https://localhost:8080/",
          "height": 34
        },
        "outputId": "a27e4b9a-2c89-4cea-cf42-99a620d73e0a"
      },
      "source": [
        "from sklearn.metrics import accuracy_score\n",
        "print('Test Accuracy using MultiNomial Naive Bayes Classifier: ',accuracy_score(test_labels,pred))"
      ],
      "execution_count": 264,
      "outputs": [
        {
          "output_type": "stream",
          "text": [
            "Test Accuracy using MultiNomial Naive Bayes Classifier:  0.20161290322580644\n"
          ],
          "name": "stdout"
        }
      ]
    },
    {
      "cell_type": "markdown",
      "metadata": {
        "id": "zzhO7f9rh796",
        "colab_type": "text"
      },
      "source": [
        "# **Support Vector Machines**"
      ]
    },
    {
      "cell_type": "code",
      "metadata": {
        "id": "CNlADbgPdRUM",
        "colab_type": "code",
        "colab": {}
      },
      "source": [
        "from sklearn.svm import SVC\n",
        "pipeline=Pipeline([('bow',CountVectorizer(analyzer=clean_text)),\n",
        "                   ('tfidf',TfidfTransformer()),\n",
        "                   ('classifier',SVC())\n",
        "                   ])\n"
      ],
      "execution_count": 0,
      "outputs": []
    },
    {
      "cell_type": "code",
      "metadata": {
        "id": "2sUVvI0-fwjC",
        "colab_type": "code",
        "colab": {
          "base_uri": "https://localhost:8080/",
          "height": 88
        },
        "outputId": "437b044b-0224-4cad-9643-89773658430c"
      },
      "source": [
        "pipeline.fit(train_sentences,train_labels)\n",
        "pred=pipeline.predict(test_sentences)\n",
        "from sklearn.metrics import accuracy_score\n",
        "print('Test Accuracy using Support Vector Mchines: ',accuracy_score(test_labels,pred))"
      ],
      "execution_count": 273,
      "outputs": [
        {
          "output_type": "stream",
          "text": [
            "/usr/local/lib/python3.6/dist-packages/sklearn/svm/base.py:193: FutureWarning: The default value of gamma will change from 'auto' to 'scale' in version 0.22 to account better for unscaled features. Set gamma explicitly to 'auto' or 'scale' to avoid this warning.\n",
            "  \"avoid this warning.\", FutureWarning)\n"
          ],
          "name": "stderr"
        },
        {
          "output_type": "stream",
          "text": [
            "Test Accuracy using Support Vector Mchines:  0.20161290322580644\n"
          ],
          "name": "stdout"
        }
      ]
    },
    {
      "cell_type": "markdown",
      "metadata": {
        "id": "AXk0EQcjiEXc",
        "colab_type": "text"
      },
      "source": [
        "# **Random Forests**"
      ]
    },
    {
      "cell_type": "code",
      "metadata": {
        "id": "WZ_xgaVdg0eg",
        "colab_type": "code",
        "colab": {}
      },
      "source": [
        "from sklearn.ensemble import RandomForestClassifier\n",
        "pipeline=Pipeline([('bow',CountVectorizer(analyzer=clean_text)),\n",
        "                   ('tfidf',TfidfTransformer()),\n",
        "                   ('classifier',RandomForestClassifier(n_estimators=800))\n",
        "                   ])"
      ],
      "execution_count": 0,
      "outputs": []
    },
    {
      "cell_type": "code",
      "metadata": {
        "id": "6Y2Ne8Cjifpc",
        "colab_type": "code",
        "colab": {
          "base_uri": "https://localhost:8080/",
          "height": 34
        },
        "outputId": "9f3a621e-4acb-4bd4-9e83-8487cf345999"
      },
      "source": [
        "pipeline.fit(train_sentences,train_labels)\n",
        "pred=pipeline.predict(test_sentences)\n",
        "from sklearn.metrics import accuracy_score\n",
        "print('Test Accuracy using Random Forest Classifier: ',accuracy_score(test_labels,pred))"
      ],
      "execution_count": 281,
      "outputs": [
        {
          "output_type": "stream",
          "text": [
            "Test Accuracy using Random Forest Classifier:  0.3029953917050691\n"
          ],
          "name": "stdout"
        }
      ]
    }
  ]
}